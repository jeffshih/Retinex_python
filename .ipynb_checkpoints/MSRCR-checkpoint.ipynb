{
 "cells": [
  {
   "cell_type": "code",
   "execution_count": 2,
   "metadata": {
    "collapsed": true
   },
   "outputs": [],
   "source": [
    "import numpy as np\n",
    "import cv2\n",
    "from scipy import fftpack\n",
    "from matplotlib import pyplot as plt"
   ]
  },
  {
   "cell_type": "code",
   "execution_count": 39,
   "metadata": {
    "collapsed": true
   },
   "outputs": [],
   "source": [
    "class Retinex:\n",
    "     \n",
    "    def set_param(self,img):\n",
    "        r = img[...,2]\n",
    "        g = img[...,1]\n",
    "        b = img[...,0]\n",
    "        self.param = [self.gau_process(r),self.gau_process(g),self.gau_process(b)]\n",
    "\n",
    "    \n",
    "    def gau_process(self,I):\n",
    "\n",
    "        I_d = np.array(I).astype('float')\n",
    "        I_log = np.log(I_d+1)\n",
    "        f_I = fftpack.fft(I_d)\n",
    "        Ir = img[...,0]\n",
    "        sigma = [15,80,250]\n",
    "        x,y = np.meshgrid(range((-(np.shape(Ir)[1]-1)/2),(np.shape(Ir)[1])/2),range((-(np.shape(Ir)[0]-1)/2),(np.shape(Ir)[0])/2))\n",
    "        Reti = []\n",
    "\n",
    "        for sig in sigma:\n",
    "            Gauss = np.exp(-(x^2+y^2)/(2*sig^2))/sum(np.exp(-(x^2+y^2)/(2*sig^2)))\n",
    "            fgauss = fftpack.fft2(Gauss,np.shape(I))\n",
    "            fgauss = fftpack.fftshift(fgauss)\n",
    "            R = fftpack.ifft2(fgauss*f_I)\n",
    "            min1 = R.min()\n",
    "            R_log = np.log(R-min1+1)\n",
    "            R = I_log-R_log\n",
    "            Reti.append(R)\n",
    "\n",
    "        return Reti\n",
    "\n",
    "    def clamp(self,R):\n",
    "        low = R.min()\n",
    "        high = R.max()\n",
    "        return (255*(R-low)/(high-low)).astype('uint8')\n",
    "\n",
    "    def getSSR(self,param):\n",
    "        SSR = param[1]\n",
    "        return self.clamp(SSR)\n",
    "\n",
    "    def getMSR(self,param):\n",
    "        MSR = 0.33*param[0]+0.34*param[1]+0.33*param[2]\n",
    "        return self.clamp(MSR)\n",
    "\n",
    "    def getMSRCR(self,param,CR_param,cur_l):\n",
    "        G = CR_param[0]\n",
    "        b = CR_param[1]\n",
    "        alpha = CR_param[2]\n",
    "        beta = CR_param[3]\n",
    "        Ir_d = CR_param[4]\n",
    "        Ig_d = CR_param[5]\n",
    "        Ib_d = CR_param[6]\n",
    "        CR = beta*(np.log(alpha*CR_param[4+cur_l]+1)-np.log(Ir_d+Ig_d+Ib_d+1))\n",
    "        R_temp = 0.33*param[0]+0.34*param[1]+0.33*param[2]\n",
    "        R = G*(CR*R_temp+b)\n",
    "        return self.clamp(R)\n",
    "\n",
    "\n",
    "    def SSR(self,img):\n",
    "        ssr = img.copy()\n",
    "        img = cv2.cvtColor(img,cv2.COLOR_BGR2RGB)\n",
    "        for i in range(0,3):\n",
    "            SSR = self.getSSR(self.param[i])\n",
    "            ssr[...,i] = SSR \n",
    "        return ssr\n",
    "\n",
    "    def MSR(self,img):\n",
    "        img = cv2.cvtColor(img,cv2.COLOR_BGR2RGB)\n",
    "        msr = img.copy()\n",
    "        for i in range(0,3):\n",
    "            MSR = self.getMSR(self.param[i])\n",
    "            msr[...,i] = MSR\n",
    "        return msr \n",
    "\n",
    "    def MSRCR(self,img):\n",
    "        img = cv2.cvtColor(img,cv2.COLOR_BGR2RGB)\n",
    "        msrcr = img.copy()\n",
    "        G = 192\n",
    "        b = -30\n",
    "        alpha = 125\n",
    "        beta = 46\n",
    "        I_d = []\n",
    "        for i in range(0,3):\n",
    "            S = img[...,i]\n",
    "            I_dt = np.array(S).astype('float')\n",
    "            I_d.append(I_dt)\n",
    "            \n",
    "        MSRCR_param = [G,b,alpha,beta,I_d[0],I_d[1],I_d[2]]   \n",
    "        \n",
    "        for j in range(0,3):\n",
    "            MSRCR = self.getMSRCR(self.param[j],MSRCR_param,j)\n",
    "            msrcr[...,j] = MSRCR\n",
    "        return msrcr"
   ]
  },
  {
   "cell_type": "code",
   "execution_count": 1,
   "metadata": {},
   "outputs": [
    {
     "ename": "NameError",
     "evalue": "name 'cv2' is not defined",
     "output_type": "error",
     "traceback": [
      "\u001b[0;31m---------------------------------------------------------------------------\u001b[0m",
      "\u001b[0;31mNameError\u001b[0m                                 Traceback (most recent call last)",
      "\u001b[0;32m<ipython-input-1-e3f9629b8642>\u001b[0m in \u001b[0;36m<module>\u001b[0;34m()\u001b[0m\n\u001b[1;32m      1\u001b[0m \u001b[0;34m\u001b[0m\u001b[0m\n\u001b[1;32m      2\u001b[0m \u001b[0mimg_pwd\u001b[0m \u001b[0;34m=\u001b[0m \u001b[0;34m'test2.png'\u001b[0m\u001b[0;34m\u001b[0m\u001b[0m\n\u001b[0;32m----> 3\u001b[0;31m \u001b[0mimg\u001b[0m \u001b[0;34m=\u001b[0m \u001b[0mcv2\u001b[0m\u001b[0;34m.\u001b[0m\u001b[0mimread\u001b[0m\u001b[0;34m(\u001b[0m\u001b[0mimg_pwd\u001b[0m\u001b[0;34m)\u001b[0m\u001b[0;34m\u001b[0m\u001b[0m\n\u001b[0m\u001b[1;32m      4\u001b[0m \u001b[0;34m\u001b[0m\u001b[0m\n\u001b[1;32m      5\u001b[0m \u001b[0mretinex\u001b[0m \u001b[0;34m=\u001b[0m \u001b[0mRetinex\u001b[0m\u001b[0;34m(\u001b[0m\u001b[0;34m)\u001b[0m\u001b[0;34m\u001b[0m\u001b[0m\n",
      "\u001b[0;31mNameError\u001b[0m: name 'cv2' is not defined"
     ]
    }
   ],
   "source": [
    "\n",
    "img_pwd = 'test2.png'\n",
    "img = cv2.imread(img_pwd)\n",
    "\n",
    "retinex = Retinex()\n",
    "retinex.set_param(img)\n",
    "ssr = retinex.SSR(img)\n",
    "msr = retinex.MSR(img)\n",
    "msrcr = retinex.MSRCR(img)\n",
    "img = cv2.cvtColor(img,cv2.COLOR_BGR2RGB)\n",
    "plt.figure(figsize=(20,10))\n",
    "plt.subplot(221),plt.imshow(img)\n",
    "plt.subplot(222),plt.imshow(msr)\n",
    "plt.subplot(223),plt.imshow(ssr)\n",
    "plt.subplot(224),plt.imshow(msrcr)\n",
    "plt.show()"
   ]
  },
  {
   "cell_type": "code",
   "execution_count": null,
   "metadata": {
    "collapsed": true
   },
   "outputs": [],
   "source": []
  }
 ],
 "metadata": {
  "kernelspec": {
   "display_name": "Python 2",
   "language": "python",
   "name": "python2"
  },
  "language_info": {
   "codemirror_mode": {
    "name": "ipython",
    "version": 2
   },
   "file_extension": ".py",
   "mimetype": "text/x-python",
   "name": "python",
   "nbconvert_exporter": "python",
   "pygments_lexer": "ipython2",
   "version": "2.7.12"
  }
 },
 "nbformat": 4,
 "nbformat_minor": 2
}
